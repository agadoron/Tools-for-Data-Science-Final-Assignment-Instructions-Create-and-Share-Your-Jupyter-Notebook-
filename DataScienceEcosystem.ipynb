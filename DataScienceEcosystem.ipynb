{
 "cells": [
  {
   "cell_type": "markdown",
   "id": "97984bae-02bb-4784-8041-039a5de35aeb",
   "metadata": {},
   "source": [
    "<H1>Data Science Tools and Ecosystem</H1>"
   ]
  },
  {
   "cell_type": "markdown",
   "id": "3e92994e-7dfd-47fc-8519-38c5993a18ac",
   "metadata": {},
   "source": [
    "<H2>Author</H2> Doron Aga"
   ]
  },
  {
   "cell_type": "markdown",
   "id": "94482f49-bc8d-4344-8e9d-3a1e5ac39e2c",
   "metadata": {},
   "source": [
    "In this notebook, Data Science Tools and Ecosystem are summarized."
   ]
  },
  {
   "cell_type": "markdown",
   "id": "e95384e8-97a6-4e7a-add8-44b28ee1be94",
   "metadata": {},
   "source": [
    "<b> Objectives: </b>\n",
    "- List popular languages for Data Science\n",
    "- List popular libraries for Data Science\n",
    "- List popular tools for Data Science\n",
    "- Examples of evaluating arithmetic expressions in Python"
   ]
  },
  {
   "cell_type": "markdown",
   "id": "68af4b56-c53d-4587-9b35-76e42da6cf02",
   "metadata": {},
   "source": [
    "Some of the popular languages that Data Scientists use are:\n",
    "1 - Python\n",
    "2 - R\n",
    "3 - Julia\n",
    "4 - SQL"
   ]
  },
  {
   "cell_type": "markdown",
   "id": "9e196db5-f3af-4dfc-8118-0f98b35c5f6f",
   "metadata": {},
   "source": [
    "Some of the commonly used libraries used by Data Scientists include:\n",
    "1 - Pandas\n",
    "2 - NumPy\n",
    "3 - Matplotlib"
   ]
  },
  {
   "cell_type": "markdown",
   "id": "66e45eb0-5068-468f-856d-6f08cd6d1b7c",
   "metadata": {},
   "source": [
    "|Data Science Tools|\n",
    "|-----------|\n",
    "|TensorFlow|\n",
    "|RStudio|\n",
    "|Apache Spark|"
   ]
  },
  {
   "cell_type": "markdown",
   "id": "52275753-6e02-4e56-8d14-e1ff9be5ebc7",
   "metadata": {},
   "source": [
    "<H3>Below are a few examples of evaluating arithmetic expressions in Python</H3>"
   ]
  },
  {
   "cell_type": "code",
   "execution_count": 1,
   "id": "b0e89bd0-a66c-437b-9761-fe0b580aca61",
   "metadata": {},
   "outputs": [
    {
     "data": {
      "text/plain": [
       "17"
      ]
     },
     "execution_count": 1,
     "metadata": {},
     "output_type": "execute_result"
    }
   ],
   "source": [
    "#This a simple arithmetic expression to mutiply then add integers\n",
    "(3*4)+5"
   ]
  },
  {
   "cell_type": "code",
   "execution_count": 6,
   "id": "cc0bf422-4b0b-4181-b954-1070a1a8e3ce",
   "metadata": {},
   "outputs": [
    {
     "name": "stdout",
     "output_type": "stream",
     "text": [
      "3.3333333333333335\n"
     ]
    }
   ],
   "source": [
    "#This will convert 200 minutes to hours by diving by 60\n",
    "minutes = 200\n",
    "hours = minutes / 60\n",
    "print(hours)"
   ]
  },
  {
   "cell_type": "code",
   "execution_count": null,
   "id": "a5ae13ef-47be-4f64-a9ba-33d95453d9c8",
   "metadata": {},
   "outputs": [],
   "source": []
  }
 ],
 "metadata": {
  "kernelspec": {
   "display_name": "Python",
   "language": "python",
   "name": "conda-env-python-py"
  },
  "language_info": {
   "codemirror_mode": {
    "name": "ipython",
    "version": 3
   },
   "file_extension": ".py",
   "mimetype": "text/x-python",
   "name": "python",
   "nbconvert_exporter": "python",
   "pygments_lexer": "ipython3",
   "version": "3.7.12"
  }
 },
 "nbformat": 4,
 "nbformat_minor": 5
}
